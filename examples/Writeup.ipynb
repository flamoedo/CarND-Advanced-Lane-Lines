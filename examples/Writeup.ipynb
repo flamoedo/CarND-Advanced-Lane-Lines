{
 "cells": [
  {
   "cell_type": "markdown",
   "metadata": {},
   "source": [
    "# Writeup"
   ]
  },
  {
   "cell_type": "markdown",
   "metadata": {},
   "source": [
    "### Advanced Lane Finding Project\n",
    "#### The goals / steps of this project are the following:\n",
    "- Compute the camera calibration matrix and distortion coefficients given a set of chessboard images.\n",
    "- Apply a distortion correction to raw images.\n",
    "- Use color transforms, gradients, etc., to create a thresholded binary image.\n",
    "- Apply a perspective transform to rectify binary image (\"birds-eye view\").\n",
    "- Detect lane pixels and fit to find the lane boundary.\n",
    "- Determine the curvature of the lane and vehicle position with respect to center.\n",
    "- Warp the detected lane boundaries back onto the original image.\n",
    "- Output visual display of the lane boundaries and numerical estimation of lane curvature and vehicle\n",
    "position."
   ]
  },
  {
   "cell_type": "markdown",
   "metadata": {},
   "source": [
    "## Rubric Points"
   ]
  },
  {
   "cell_type": "markdown",
   "metadata": {},
   "source": [
    "### Camera Calibration"
   ]
  },
  {
   "cell_type": "markdown",
   "metadata": {},
   "source": [
    "#### 1. Have the camera matrix and distortion coefficients been computed correctly and checked on one of the calibration images as a test?"
   ]
  },
  {
   "cell_type": "markdown",
   "metadata": {},
   "source": [
    "The code for this step is contained in the first code cell of the IPython notebook (or in lines # through # of the\n",
    "file called ```some_file.py``` ).\n",
    "I start by preparing \"object points\", which will be the (x, y, z) coordinates of the chessboard corners in the\n",
    "world. Here I am assuming the chessboard is fixed on the (x, y) plane at z=0, such that the object points are\n",
    "the same for each calibration image. Thus, objp is just a replicated array of coordinates, and objpoints\n",
    "will be appended with a copy of it every time I successfully detect all chessboard corners in a test image.\n",
    "imgpoints will be appended with the (x, y) pixel position of each of the corners in the image plane with\n",
    "each successful chessboard detection.\n",
    "I then used the output objpoints and imgpoints to compute the camera calibration and distortion\n",
    "coefficients using the cv2.calibrateCamera() function. I applied this distortion correction to the test\n",
    "image using the cv2.undistort() function and obtained this result:"
   ]
  },
  {
   "cell_type": "code",
   "execution_count": null,
   "metadata": {
    "collapsed": true
   },
   "outputs": [],
   "source": []
  }
 ],
 "metadata": {
  "anaconda-cloud": {},
  "kernelspec": {
   "display_name": "Python [conda root]",
   "language": "python",
   "name": "conda-root-py"
  },
  "language_info": {
   "codemirror_mode": {
    "name": "ipython",
    "version": 3
   },
   "file_extension": ".py",
   "mimetype": "text/x-python",
   "name": "python",
   "nbconvert_exporter": "python",
   "pygments_lexer": "ipython3",
   "version": "3.5.2"
  }
 },
 "nbformat": 4,
 "nbformat_minor": 1
}
